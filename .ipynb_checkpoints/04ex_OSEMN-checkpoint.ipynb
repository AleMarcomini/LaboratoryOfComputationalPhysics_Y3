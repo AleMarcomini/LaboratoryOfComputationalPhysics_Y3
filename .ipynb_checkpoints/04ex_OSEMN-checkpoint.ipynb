{
 "cells": [
  {
   "cell_type": "markdown",
   "metadata": {},
   "source": [
    "# OSEMN Exercises"
   ]
  },
  {
   "cell_type": "code",
   "execution_count": 1,
   "metadata": {},
   "outputs": [],
   "source": [
    "%matplotlib inline\n",
    "import pandas as pd\n",
    "import numpy as np"
   ]
  },
  {
   "cell_type": "markdown",
   "metadata": {},
   "source": [
    "1\\. Create a random list of number and then save it to a text file named \"simple_data.txt\""
   ]
  },
  {
   "cell_type": "code",
   "execution_count": 2,
   "metadata": {},
   "outputs": [],
   "source": [
    "l = np.random.randint(100,size=10)\n",
    "l = list(l)\n",
    "\n",
    "with open('simple_data.txt','w') as file:\n",
    "    file.write(str(l))"
   ]
  },
  {
   "cell_type": "markdown",
   "metadata": {},
   "source": [
    "2\\. Create a random matrix of 5x5 and then save it to a text file named \"data.txt\""
   ]
  },
  {
   "cell_type": "code",
   "execution_count": 3,
   "metadata": {},
   "outputs": [
    {
     "name": "stdout",
     "output_type": "stream",
     "text": [
      "[[77  7 31 17 95]\n",
      " [27 63 51 50 37]\n",
      " [67 48 60 83 39]\n",
      " [36  3 70 59 85]\n",
      " [71 58 74 99  6]]\n"
     ]
    }
   ],
   "source": [
    "m = np.random.randint(100,size=25).reshape(5,5)\n",
    "print(m)\n",
    "\n",
    "with open('data.txt','w') as file: file.write(str(m))"
   ]
  },
  {
   "cell_type": "markdown",
   "metadata": {},
   "source": [
    "3\\. Load the saved txt file of point 2 and convert it to a csv file (by hand)"
   ]
  },
  {
   "cell_type": "code",
   "execution_count": 4,
   "metadata": {},
   "outputs": [
    {
     "name": "stdout",
     "output_type": "stream",
     "text": [
      "[[77  7 31 17 95]\n",
      " [27 63 51 50 37]\n",
      " [67 48 60 83 39]\n",
      " [36  3 70 59 85]\n",
      " [71 58 74 99  6]]\n"
     ]
    }
   ],
   "source": [
    "file = 'data.txt'\n",
    "\n",
    "\n",
    "with open(file,'r') as f:\n",
    "    dataset = [line for line in f]\n",
    "    n_rows = len(dataset)\n",
    "    numbers = []\n",
    "    for x in dataset:\n",
    "        y = x.split()\n",
    "        for c in y: \n",
    "            d = c.replace('[','').replace(']','')\n",
    "            if d != '': numbers.append(int(d))\n",
    "    \n",
    "    numbers = np.array(numbers).reshape(n_rows,-1)\n",
    "    print(numbers)\n",
    "    \n",
    "    numbers.tofile('data.csv', sep = ',')"
   ]
  },
  {
   "cell_type": "markdown",
   "metadata": {},
   "source": [
    "4\\. load the binary file named *credit_card.dat* and convert the data into the real credit-card number.\n",
    "Each line correspond to a credit card number.\n",
    "Each character is composed by 6 bit (even the space) and the last 4 bit are just a padding\n",
    "\n",
    "**hint**: use the `chr()` function to convert a number to a char"
   ]
  },
  {
   "cell_type": "code",
   "execution_count": 17,
   "metadata": {},
   "outputs": [
    {
     "name": "stdout",
     "output_type": "stream",
     "text": [
      "['7648 5673 3775 2271', '3257 8247 3354 2266', '2722 0001 4011 6652', '0661 3063 3742 3150', '0432 1608 1462 4742', '5827 2027 8785 7303', '5774 8528 2087 1117', '8140 1210 6352 2845', '5764 1133 7301 7100', '6456 1737 4126 6726', '1228 8631 7382 0000', '7051 0160 5374 3166', '0618 3587 1630 6376', '1545 5454 7444 5636', '6735 3116 3202 6834', '7287 5011 1547 8413', '7033 2607 3328 4200', '2568 5244 1874 5024', '1684 2253 7570 7118', '0672 2576 0575 6631', '6332 8353 8787 1340', '1813 3361 1175 4211', '2477 6450 8840 2368', '5512 3505 2563 1326', '3083 7882 0621 0025', '4521 5148 8045 0334', '7563 3654 8713 5787', '8324 2664 0476 5561', '0565 2504 7168 3510', '5107 5507 1767 0738', '2462 1821 2448 1443', '2788 0638 6861 6554', '5851 5873 5474 0547', '0670 1004 4013 2655', '5874 5506 3048 0806', '2805 5401 8462 1260', '5083 8406 6310 1862', '1076 1445 3013 2266', '8440 4804 4844 5277', '4758 6141 0686 1387', '7586 0675 0315 2568', '2544 1258 7432 5165', '3474 5023 4434 5626', '1410 0270 0434 5086', '7315 4446 1104 4215', '0224 7742 8300 0266', '0170 2700 3145 0640', '2006 2437 8054 1600', '8142 4055 1776 0026', '3026 7380 1241 1084']\n"
     ]
    }
   ],
   "source": [
    "with open(file,'r') as f:\n",
    "    l = next(f)\n",
    "    dataset = np.array([c for c in l])\n",
    "    for line in f:\n",
    "        if len(line) == len(l):\n",
    "            dataset = np.vstack((dataset,np.array([c for c in line])))\n",
    "            \n",
    "    \n",
    "    cards = []\n",
    "    for i in range(len(dataset)):\n",
    "        card = ''\n",
    "        for j in range(int(np.size(dataset,1)/6)):\n",
    "            n = ''\n",
    "            for k in range(6):\n",
    "                n += dataset[i,6*j+k]\n",
    "            c = chr(int(n,2))\n",
    "            card += c\n",
    "        cards.append(card)\n",
    "    print(cards)"
   ]
  },
  {
   "cell_type": "markdown",
   "metadata": {},
   "source": [
    "5\\. Load the file \"user_data.json\", filter the data by the \"CreditCardType\" field equals to \"American Express\". Than save the data a to CSV."
   ]
  },
  {
   "cell_type": "code",
   "execution_count": 36,
   "metadata": {},
   "outputs": [],
   "source": [
    "import json\n",
    "\n",
    "filename = 'user_data.json'\n",
    "outputfile = 'user_data.csv'\n",
    "\n",
    "with open(filename, 'r') as f:\n",
    "    data = json.loads(f.read())\n",
    "    AE_users = []\n",
    "    users = 0\n",
    "    for i in range(len(data)):\n",
    "        if data[i].get('CreditCardType') == 'American Express': \n",
    "            AE_users.append(data[i])\n",
    "            users += 1\n",
    "    AE = np.array(AE_users).reshape(users,-1) \n",
    "\n",
    "with open(outputfile, 'a'):\n",
    "    AE.tofile(outputfile, sep = ',')\n",
    "    "
   ]
  },
  {
   "cell_type": "markdown",
   "metadata": {},
   "source": [
    "6\\. Load the file from this url: [https://www.dropbox.com/s/7u3lm737ogbqsg8/mushrooms_categorized.csv?dl=1](https://www.dropbox.com/s/7u3lm737ogbqsg8/mushrooms_categorized.csv?dl=1) with Pandas. \n",
    "+ Explore the data (see the info of the data)\n",
    "+ Draw the istogram of the 'class' field. Decribe what you see\n"
   ]
  },
  {
   "cell_type": "code",
   "execution_count": 43,
   "metadata": {},
   "outputs": [
    {
     "name": "stdout",
     "output_type": "stream",
     "text": [
      "I cannot find an instruction sheet giving information of the data. However, it seems to be a classification of mushrooms and the class field depicts a binary representation (could be for example the poisoness of the mushroom. The histogram shows that both classes present an enormous population, and differences are really slight (about 10%).\n"
     ]
    },
    {
     "data": {
      "image/png": "[encoded data removed]",
      "text/plain": [
       "<Figure size 432x288 with 1 Axes>"
      ]
     },
     "metadata": {
      "needs_background": "light"
     },
     "output_type": "display_data"
    }
   ],
   "source": [
    "import pandas as pd\n",
    "file_name=\"https://www.dropbox.com/s/7u3lm737ogbqsg8/mushrooms_categorized.csv?dl=1\"\n",
    "data=pd.read_csv(file_name)\n",
    "#8124 rows x 23 cols\n",
    "df = pd.DataFrame.hist(data, column = 'class')\n",
    "\n",
    "print('I cannot find an instruction sheet giving information of the data. However, it seems to be a classification of mushrooms and the class field depicts a binary representation (could be for example the poisoness of the mushroom. The histogram shows that both classes present an enormous population, and differences are really slight (about 10%).')"
   ]
  },
  {
   "cell_type": "markdown",
   "metadata": {},
   "source": [
    "7\\. Load the remote file [https://www.dropbox.com/s/vkl89yce7xjdq4n/regression_generated.csv?dl=1](https://www.dropbox.com/s/vkl89yce7xjdq4n/regression_generated.csv?dl=1) with Pandas and plot a scatter plot all possible combination of the following fields:\n",
    "    \n",
    "  + features_1\n",
    "  + features_2\n",
    "  + features_3"
   ]
  },
  {
   "cell_type": "code",
   "execution_count": 51,
   "metadata": {},
   "outputs": [
    {
     "name": "stdout",
     "output_type": "stream",
     "text": [
      "feature 2 vs feature 1\n"
     ]
    },
    {
     "ename": "NameError",
     "evalue": "name 'features_1' is not defined",
     "output_type": "error",
     "traceback": [
      "\u001b[0;31m---------------------------------------------------------------------------\u001b[0m",
      "\u001b[0;31mNameError\u001b[0m                                 Traceback (most recent call last)",
      "\u001b[0;32m<ipython-input-51-06dcab8c40f0>\u001b[0m in \u001b[0;36m<module>\u001b[0;34m\u001b[0m\n\u001b[1;32m      2\u001b[0m \u001b[0mdata\u001b[0m\u001b[0;34m=\u001b[0m\u001b[0mpd\u001b[0m\u001b[0;34m.\u001b[0m\u001b[0mread_csv\u001b[0m\u001b[0;34m(\u001b[0m\u001b[0mfile_name\u001b[0m\u001b[0;34m)\u001b[0m\u001b[0;34m\u001b[0m\u001b[0;34m\u001b[0m\u001b[0m\n\u001b[1;32m      3\u001b[0m \u001b[0mprint\u001b[0m\u001b[0;34m(\u001b[0m\u001b[0;34m'feature 2 vs feature 1'\u001b[0m\u001b[0;34m)\u001b[0m\u001b[0;34m\u001b[0m\u001b[0;34m\u001b[0m\u001b[0m\n\u001b[0;32m----> 4\u001b[0;31m \u001b[0mdf\u001b[0m \u001b[0;34m=\u001b[0m \u001b[0mpd\u001b[0m\u001b[0;34m.\u001b[0m\u001b[0mDataFrame\u001b[0m\u001b[0;34m(\u001b[0m\u001b[0;34m{\u001b[0m\u001b[0;34m'features_1'\u001b[0m\u001b[0;34m:\u001b[0m \u001b[0mfeatures_1\u001b[0m\u001b[0;34m,\u001b[0m \u001b[0;34m'features_2'\u001b[0m\u001b[0;34m:\u001b[0m \u001b[0mfeatures_2\u001b[0m\u001b[0;34m}\u001b[0m\u001b[0;34m)\u001b[0m\u001b[0;34m\u001b[0m\u001b[0;34m\u001b[0m\u001b[0m\n\u001b[0m\u001b[1;32m      5\u001b[0m \u001b[0mdf\u001b[0m\u001b[0;34m.\u001b[0m\u001b[0mplot\u001b[0m\u001b[0;34m.\u001b[0m\u001b[0mscatter\u001b[0m\u001b[0;34m(\u001b[0m\u001b[0mx\u001b[0m \u001b[0;34m=\u001b[0m \u001b[0;34m'features_1'\u001b[0m\u001b[0;34m,\u001b[0m \u001b[0my\u001b[0m \u001b[0;34m=\u001b[0m \u001b[0;34m'features_2'\u001b[0m\u001b[0;34m)\u001b[0m\u001b[0;34m\u001b[0m\u001b[0;34m\u001b[0m\u001b[0m\n\u001b[1;32m      6\u001b[0m \u001b[0mprint\u001b[0m\u001b[0;34m(\u001b[0m\u001b[0;34m'feature 3 vs feature 2'\u001b[0m\u001b[0;34m)\u001b[0m\u001b[0;34m\u001b[0m\u001b[0;34m\u001b[0m\u001b[0m\n",
      "\u001b[0;31mNameError\u001b[0m: name 'features_1' is not defined"
     ]
    }
   ],
   "source": [
    "file_name=\"https://www.dropbox.com/s/vkl89yce7xjdq4n/regression_generated.csv?dl=1\"\n",
    "data=pd.read_csv(file_name)\n",
    "print('feature 2 vs feature 1')\n",
    "df = pd.DataFrame({'features_1': features_1, 'features_2': features_2})\n",
    "df.plot.scatter(x = 'features_1', y = 'features_2')\n",
    "print('feature 3 vs feature 2')\n",
    "df = pd.DataFrame.plot.scatter('features_2','features_3')\n",
    "print('feature 1 vs feature 3')\n",
    "df = pd.DataFrame.plot.scatter('features_3','features_1')\n"
   ]
  },
  {
   "cell_type": "markdown",
   "metadata": {},
   "source": [
    "8\\. Load the same file of point 6, and convert the file to json with Pandas."
   ]
  }
 ],
 "metadata": {
  "kernelspec": {
   "display_name": "Python 3",
   "language": "python",
   "name": "python3"
  },
  "language_info": {
   "codemirror_mode": {
    "name": "ipython",
    "version": 3
   },
   "file_extension": ".py",
   "mimetype": "text/x-python",
   "name": "python",
   "nbconvert_exporter": "python",
   "pygments_lexer": "ipython3",
   "version": "3.8.6"
  }
 },
 "nbformat": 4,
 "nbformat_minor": 2
}
